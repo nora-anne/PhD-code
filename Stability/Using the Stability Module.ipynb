{
 "cells": [
  {
   "cell_type": "markdown",
   "id": "voluntary-facial",
   "metadata": {},
   "source": [
    "# Stability\n",
    "\n",
    "This module has only one package: spectral_fraction. This package implements the calculation of spectral fraction as described in Volk & Malhotra 2020.\n",
    "\n",
    "This is done by simulating a system for $5\\times10^6$ orbits of the inner planet, calculating the angular momentum deficit (AMD) for each planet at 3000 equally spaced steps, and computing a power spectra of the AMD using a Fourier transform. The spectral fraction is the number of peaks that have at least 5% of the max power divided by the number of frequencies evaluated.\n",
    "\n",
    "Per Volk & Malhotra 2020, a spectral fraction above 0.01 corresponded with instability on timescales of $5\\times10^9$ orbits."
   ]
  },
  {
   "cell_type": "markdown",
   "id": "exotic-video",
   "metadata": {},
   "source": [
    "AMD is calculated for the $j$th planet as:\n",
    "\n",
    "$$\\frac{m_jM_\\star}{m_j+M_\\star} \\sqrt{G(m_j+M_\\star)a_j}(1-\\text{cos}i_j\\sqrt{1-e_j^2})$$"
   ]
  },
  {
   "cell_type": "code",
   "execution_count": 1,
   "id": "confirmed-attempt",
   "metadata": {},
   "outputs": [],
   "source": [
    "import spectral_fraction\n",
    "\n",
    "import numpy as np\n",
    "%matplotlib inline\n",
    "import matplotlib.pyplot as plt"
   ]
  },
  {
   "cell_type": "code",
   "execution_count": 2,
   "id": "coordinate-affiliation",
   "metadata": {},
   "outputs": [],
   "source": [
    "import rebound\n",
    "\n",
    "#load an example sim, in this case, Kep-18 from a PhoDyMM output\n",
    "sim = rebound.Simulation('Kep18_best_params.bin')"
   ]
  },
  {
   "cell_type": "markdown",
   "id": "corresponding-desire",
   "metadata": {},
   "source": [
    "<div class=\"alert alert-block alert-warning\">\n",
    "The following 2 cells will take a few minutes to run each.</div>"
   ]
  },
  {
   "cell_type": "code",
   "execution_count": 3,
   "id": "understood-portsmouth",
   "metadata": {},
   "outputs": [
    {
     "name": "stdout",
     "output_type": "stream",
     "text": [
      "spectral fractions: [0.00333333 0.002      0.00333333]\n"
     ]
    }
   ],
   "source": [
    "#sf_AMD_sim\n",
    "#this function takes a simulation as an input and returns the AMD spectral fraction for each planet\n",
    "#if returneccs is turned on, it will also return the max ecc seen for each planet\n",
    "\n",
    "#because this function is performing the 5x10^6 orbit integration, it can be a bit slow!\n",
    "\n",
    "spec_frac_K18 = spectral_fraction.sf_AMD_sim(sim)\n",
    "\n",
    "print('spectral fractions:',spec_frac_K18)"
   ]
  },
  {
   "cell_type": "code",
   "execution_count": 4,
   "id": "commercial-shoulder",
   "metadata": {},
   "outputs": [
    {
     "name": "stdout",
     "output_type": "stream",
     "text": [
      "spectral fractions: [0.00333333 0.002      0.00333333]\n",
      "max eccs: [0.03460407 0.0199281  0.01843031]\n"
     ]
    }
   ],
   "source": [
    "#because this function is performing the 5x10^6 orbit integration, it can be a bit slow!\n",
    "\n",
    "spec_frac_K18,max_eccs_K18 = spectral_fraction.sf_AMD_sim(sim,returneccs=True)\n",
    "\n",
    "print('spectral fractions:',spec_frac_K18)\n",
    "print('max eccs:',max_eccs_K18)"
   ]
  },
  {
   "cell_type": "code",
   "execution_count": 5,
   "id": "appreciated-nancy",
   "metadata": {},
   "outputs": [
    {
     "name": "stdout",
     "output_type": "stream",
     "text": [
      "collision, time 0.03014136597124461\n",
      "spectral fractions: [nan nan nan]\n"
     ]
    }
   ],
   "source": [
    "#if the simulation is unstable (via collision, ejection, or orbit crossing), will get nan in return\n",
    "#also will print a reason and the time in the simulation when it was ended\n",
    "\n",
    "#load an example sim, in this case, Kep-18 but with an error in the mean longitudes\n",
    "sim_unstable = rebound.Simulation('Kep18_invalid.bin')\n",
    "\n",
    "spec_frac_K18 = spectral_fraction.sf_AMD_sim(sim_unstable)\n",
    "\n",
    "print('spectral fractions:',spec_frac_K18)"
   ]
  },
  {
   "cell_type": "code",
   "execution_count": 6,
   "id": "equipped-cement",
   "metadata": {},
   "outputs": [
    {
     "name": "stdout",
     "output_type": "stream",
     "text": [
      "spectral fractions: [0.00333333 0.002      0.00333333]\n"
     ]
    }
   ],
   "source": [
    "#sf_AMD_simarch\n",
    "#if you want to separate the slow integration from the quick spectral fraction calculation\n",
    "#this function also returns the spectral fractions of each planet\n",
    "#input is a simulation archive rather than a simulation\n",
    "\n",
    "#load a previously integrated simulation archive, see next cell for code example\n",
    "simarch = rebound.SimulationArchive('Kep18_best_params_sa.bin')\n",
    "\n",
    "spec_frac_K18 = spectral_fraction.sf_AMD_simarch(simarch)\n",
    "\n",
    "print('spectral fractions:',spec_frac_K18)"
   ]
  },
  {
   "cell_type": "markdown",
   "id": "immediate-plastic",
   "metadata": {},
   "source": [
    "A full example of using SimulationArchive is beyond the scope, but see the `REBOUND`  __[documentation](https://rebound.readthedocs.io/en/latest/simulationarchive/)__ for information and examples.\n",
    "\n",
    "Generating the SimArch used here was done via the following code:\n",
    "\n",
    "```\n",
    "p = sim.particles\n",
    "sim.integrator = 'WHFast'\n",
    "#this will be faster but less accurate than the default IAS15, can use any integrator in REBOUND you prefer\n",
    "sim.dt = p[1].P/50 #50 timesteps in the inner orbit #if using IAS15, not required\n",
    "\n",
    "t0 =  sim.t\n",
    "tmax = t0 + 5e6*p[1].P #run for 5 million orbits of inner planet\n",
    "Nsteps = 3000 #use same number of steps as VM20\n",
    "intvl = (tmax-t0)/Nsteps #interval to save snapshots in the simulation archive\n",
    "\n",
    "#this will automatically save to the SA as the integration runs\n",
    "sim.automateSimulationArchive('Kep18_best_params_sa.bin',interval=intvl,\n",
    "                              deletefile=True)\n",
    "sim.integrate(tmax) #this takes on order of a few minutes to integrate typically\n",
    "```"
   ]
  },
  {
   "cell_type": "code",
   "execution_count": 7,
   "id": "committed-space",
   "metadata": {},
   "outputs": [
    {
     "data": {
      "text/plain": [
       "Text(0, 0.5, 'power')"
      ]
     },
     "execution_count": 7,
     "metadata": {},
     "output_type": "execute_result"
    },
    {
     "data": {
      "image/png": "[encoded data removed]",
      "text/plain": [
       "<Figure size 432x288 with 1 Axes>"
      ]
     },
     "metadata": {
      "needs_background": "light"
     },
     "output_type": "display_data"
    }
   ],
   "source": [
    "#powerspectra_AMD_simarch\n",
    "#this function also uses a simulation archive (no integrating)\n",
    "#this allows looking at the actual AMD power spectra\n",
    "\n",
    "dt, freqs, pwr_spectra = spectral_fraction.powerspectra_AMD_simarch(simarch)\n",
    "\n",
    "#frequencies are calculated using numpy's rfftfreq function\n",
    "#this means the units are \"cycles per unit of the sample spacing\"\n",
    "#the sample spacing is included in the output (dt)\n",
    "\n",
    "#freqs includes 0 but the power spectra is calculated without (yes I should have fixed this but oh well)\n",
    "#power spectra is normalized\n",
    "\n",
    "plt.plot(freqs[freqs!=0],pwr_spectra)\n",
    "plt.yscale('log')\n",
    "plt.xscale('log')\n",
    "plt.xlabel('freq')\n",
    "plt.ylabel('power')"
   ]
  },
  {
   "cell_type": "code",
   "execution_count": null,
   "id": "fancy-campbell",
   "metadata": {},
   "outputs": [],
   "source": []
  }
 ],
 "metadata": {
  "kernelspec": {
   "display_name": "Python 3",
   "language": "python",
   "name": "python3"
  },
  "language_info": {
   "codemirror_mode": {
    "name": "ipython",
    "version": 3
   },
   "file_extension": ".py",
   "mimetype": "text/x-python",
   "name": "python",
   "nbconvert_exporter": "python",
   "pygments_lexer": "ipython3",
   "version": "3.8.10"
  }
 },
 "nbformat": 4,
 "nbformat_minor": 5
}
