{
 "cells": [
  {
   "cell_type": "markdown",
   "id": "coral-smoke",
   "metadata": {},
   "source": [
    "# Functions\n",
    "\n",
    "For the other packages in this module, see [this notebook](./Using&#32;the&#32;Functions&#32;Module.ipynb).\n",
    "\n",
    "## LL_secular\n",
    "\n",
    "- Functions in this package:\n",
    "    1. A_jj\n",
    "    1. A_jk\n",
    "    1. B_jj\n",
    "    1. B_jk\n",
    "    1. A_matrix\n",
    "    1. B_matrix\n",
    "    1. g_eigenfreqs\n",
    "    1. f_eigenfreqs\n",
    "    1. A\n",
    "    1. A_j\n",
    "    1. B\n",
    "    1. B_j\n",
    "    1. max_forced_e\n",
    "    1. max_inner_e\n",
    "    1. max_e_3planets\n",
    "    1. e_tmax_3planets\n",
    "    1. max_forced_i"
   ]
  },
  {
   "cell_type": "markdown",
   "id": "lyric-premiere",
   "metadata": {},
   "source": [
    "This package codes up the equations of Laplace-Lagrange theory set forth in Chapter 7 of Murray & Dermott 1999 (MD99) for point masses."
   ]
  },
  {
   "cell_type": "code",
   "execution_count": 109,
   "id": "impaired-treatment",
   "metadata": {},
   "outputs": [],
   "source": [
    "import LL_secular\n",
    "\n",
    "import numpy as np\n",
    "from astropy import units as u\n",
    "from Functions.orbits import PtoA\n",
    "%matplotlib inline\n",
    "import matplotlib.pyplot as plt\n",
    "from scipy import optimize"
   ]
  },
  {
   "cell_type": "code",
   "execution_count": 110,
   "id": "heard-sigma",
   "metadata": {},
   "outputs": [],
   "source": [
    "#simplified system based on outer solar system\n",
    "masses = np.array([1 *u.Msun/u.Mjupiter,1,.3,.046,.054]) * u.Mjupiter\n",
    "periods = np.array([4331,10747,30589,59800]) * u.day\n",
    "smas = PtoA(masses,periods)"
   ]
  },
  {
   "cell_type": "code",
   "execution_count": 111,
   "id": "prescription-departure",
   "metadata": {},
   "outputs": [
    {
     "name": "stdout",
     "output_type": "stream",
     "text": [
      "2.478968766497359e-07 rad / d\n",
      "-3.506541534690852e-10 rad / d\n"
     ]
    }
   ],
   "source": [
    "#A_jj finds the [j,j] entry in the A matrix (associated with the eccentricity-pericenter)\n",
    "#see eqn 7.132 of MD99 (no J terms because point masses)\n",
    "\n",
    "A_22 = LL_secular.A_jj(2,masses,periods)\n",
    "\n",
    "#A_jk finds the [j,k] entry in the A matrix (associated with the eccentricity-pericenter)\n",
    "#see eqn 7.133 of MD99 (no J terms because point masses)\n",
    "\n",
    "A_24 = LL_secular.A_jk(2,4,masses,periods)\n",
    "\n",
    "print(A_22)\n",
    "print(A_24)"
   ]
  },
  {
   "cell_type": "code",
   "execution_count": 112,
   "id": "communist-criminal",
   "metadata": {},
   "outputs": [
    {
     "name": "stdout",
     "output_type": "stream",
     "text": [
      "-2.478968766497359e-07 rad / d\n",
      "8.924864883041837e-10 rad / d\n"
     ]
    }
   ],
   "source": [
    "#B_jj finds the [j,j] entry in the B matrix (associated with the inclination-node)\n",
    "#see eqn 7.134 of MD99 (no J terms because point masses)\n",
    "\n",
    "B_22 = LL_secular.B_jj(2,masses,periods)\n",
    "\n",
    "#B_jk finds the [j,k] entry in the B matrix (associated with the inclination-node)\n",
    "#see eqn 7.135 of MD99 (no J terms because point masses)\n",
    "\n",
    "B_24 = LL_secular.B_jk(2,4,masses,periods)\n",
    "\n",
    "print(B_22)\n",
    "print(B_24)"
   ]
  },
  {
   "cell_type": "code",
   "execution_count": 113,
   "id": "annual-terror",
   "metadata": {},
   "outputs": [
    {
     "name": "stdout",
     "output_type": "stream",
     "text": [
      "[[ 1.00042949e-07 -6.45070759e-08 -3.72181777e-10 -6.74402220e-11]\n",
      " [-1.58896047e-07  2.47896877e-07 -2.44651624e-09 -3.50654153e-10]\n",
      " [-4.21957243e-09 -1.12604489e-08  3.68904563e-08 -4.23438389e-09]\n",
      " [-5.20893445e-10 -1.09952004e-09 -2.88474074e-09  9.03969016e-09]] rad / d\n",
      "[[-1.00042949e-07  9.86251756e-08  1.10616400e-09  3.11609092e-10]\n",
      " [ 2.42936924e-07 -2.47896877e-07  4.06746630e-09  8.92486488e-10]\n",
      " [ 1.25410200e-08  1.87211087e-08 -3.68904563e-08  5.62832757e-09]\n",
      " [ 2.40680010e-09  2.79850323e-09  3.83438683e-09 -9.03969016e-09]] rad / d\n"
     ]
    }
   ],
   "source": [
    "#A_matrix constructs the entire (N,N) A matrix\n",
    "A_full = LL_secular.A_matrix(masses,periods)\n",
    "\n",
    "#B_matrix constructs the entire (N,N) B matrix\n",
    "B_full = LL_secular.B_matrix(masses,periods)\n",
    "\n",
    "print(A_full)\n",
    "print(B_full)"
   ]
  },
  {
   "cell_type": "code",
   "execution_count": 114,
   "id": "weighted-material",
   "metadata": {},
   "outputs": [
    {
     "name": "stdout",
     "output_type": "stream",
     "text": [
      "[2.99394867e-07 4.95742570e-08 3.63156202e-08 8.58522753e-09] rad / d\n",
      "[-3.45602963e-07 -3.90818470e-08 -9.18516221e-09] rad / d\n"
     ]
    }
   ],
   "source": [
    "#g_eigenfreqs finds the N eigenfrequencies of the A matrix\n",
    "gfreqs = LL_secular.g_eigenfreqs(masses,periods)\n",
    "\n",
    "#f_eigenfreqs finds the N-1 eigenfrequencies of the B matrix\n",
    "ffreqs = LL_secular.f_eigenfreqs(masses,periods)\n",
    "\n",
    "print(gfreqs)\n",
    "print(ffreqs)"
   ]
  },
  {
   "cell_type": "code",
   "execution_count": 115,
   "id": "cellular-snake",
   "metadata": {},
   "outputs": [],
   "source": [
    "#simplified system based on outer solar system gas giants only\n",
    "masses2 = np.array([1 *u.Msun/u.Mjupiter,1,.3]) * u.Mjupiter\n",
    "periods2 = np.array([4331,10747]) * u.day\n",
    "smas2 = PtoA(masses2,periods2)"
   ]
  },
  {
   "cell_type": "code",
   "execution_count": 116,
   "id": "joined-picking",
   "metadata": {},
   "outputs": [
    {
     "name": "stdout",
     "output_type": "stream",
     "text": [
      "9.827627318703674e-08 rad / d\n",
      "2.039115042451278e-06 rad / d\n",
      "2.5870328755745382e-08 rad / d\n"
     ]
    }
   ],
   "source": [
    "#A finds the A from eqn 7.55 of MD99\n",
    "#this is for a very specific scenario with 2 planets and a test particle\n",
    "#for this function, the inputs must be in the required units (AU and Mjupiter) but no explicit astropy units\n",
    "#the smas input must have the test particle as the first entry regardless of its location\n",
    "\n",
    "A_1AUtp = LL_secular.A([1,*smas2.value],masses2.value)\n",
    "A_7AUtp = LL_secular.A([7,*smas2.value],masses2.value)\n",
    "A_20AUtp = LL_secular.A([20,*smas2.value],masses2.value)\n",
    "\n",
    "print(A_1AUtp)\n",
    "print(A_7AUtp)\n",
    "print(A_20AUtp)"
   ]
  },
  {
   "cell_type": "code",
   "execution_count": 117,
   "id": "distant-executive",
   "metadata": {},
   "outputs": [
    {
     "data": {
      "image/png": "[encoded data removed]",
      "text/plain": [
       "<Figure size 432x288 with 1 Axes>"
      ]
     },
     "metadata": {
      "needs_background": "light"
     },
     "output_type": "display_data"
    }
   ],
   "source": [
    "#A can be used to calculate the test particle frequency for comparison with eigenfrequencies\n",
    "#this determines the location of secular resonances in linear theory\n",
    "tp_smas = np.linspace(.1,20,num=1000)\n",
    "gfreqs2 = LL_secular.g_eigenfreqs(masses2,periods2)\n",
    "A_tp = [LL_secular.A([a,*smas2.value],masses2.value).value for a in tp_smas]\n",
    "\n",
    "#visualize the idea\n",
    "plt.plot(tp_smas,A_tp)\n",
    "plt.axhline(gfreqs2[0].value,color='r')\n",
    "plt.axhline(gfreqs2[1].value,color='g')\n",
    "plt.yscale('log')"
   ]
  },
  {
   "cell_type": "code",
   "execution_count": 118,
   "id": "massive-bulgarian",
   "metadata": {},
   "outputs": [
    {
     "name": "stdout",
     "output_type": "stream",
     "text": [
      "0.6241013222994198\n"
     ]
    },
    {
     "data": {
      "image/png": "[encoded data removed]",
      "text/plain": [
       "<Figure size 432x288 with 1 Axes>"
      ]
     },
     "metadata": {
      "needs_background": "light"
     },
     "output_type": "display_data"
    }
   ],
   "source": [
    "#to actually numerical solve for the location of the resonances, I use scipy.optimize.minimize_scalar\n",
    "#using a dummy function to minimize the difference between the eigenfrequency and the test particle frequency\n",
    "def A_scalar(a,a1,a2,m1,m2,Mstar,g):\n",
    "    SMA = [a,a1,a2]\n",
    "    Ms = [Mstar,m1,m2]\n",
    "    dum = LL_secular.A(SMA,Ms)\n",
    "    return abs(dum-g).value\n",
    "g1,g2 = gfreqs2\n",
    "a1,a2 = smas2.value\n",
    "Mstar,m1,m2 = masses2.value\n",
    "#there are 4 different eccentricity-pericenter secular resonances I could solve for\n",
    "#here I solve for the interior resonance for g1\n",
    "ares1_g1 = optimize.minimize_scalar(A_scalar,method='bounded',\n",
    "                                    bounds=(.01*a1,a1),args=(a1,a2,m1,m2,Mstar,g1))['x']\n",
    "print(ares1_g1)\n",
    "\n",
    "#double-check via visualizing -- the red lines should cross on top of the blue line\n",
    "plt.plot(tp_smas,A_tp)\n",
    "plt.axhline(gfreqs2[0].value,color='r')\n",
    "plt.axhline(gfreqs2[1].value,color='g')\n",
    "plt.axvline(ares1_g1,color='r')\n",
    "plt.yscale('log')"
   ]
  },
  {
   "cell_type": "code",
   "execution_count": 119,
   "id": "numerous-perspective",
   "metadata": {},
   "outputs": [
    {
     "name": "stdout",
     "output_type": "stream",
     "text": [
      "-2.2464928564851587e-08 rad / d\n",
      "-2.9089281311267954e-07 rad / d\n"
     ]
    }
   ],
   "source": [
    "#A_j finds the A_j from eqn 7.56 of MD99\n",
    "#this is used by the forced eccentricity function\n",
    "\n",
    "A_1_tp1AU = LL_secular.A_j(1,smas2[0].value,masses2[0].value,masses2[1].value)\n",
    "A_2_tp7AU = LL_secular.A_j(7,smas2[1].value,masses2[0].value,masses2[2].value)\n",
    "\n",
    "print(A_1_tp1AU)\n",
    "print(A_2_tp7AU)"
   ]
  },
  {
   "cell_type": "code",
   "execution_count": 120,
   "id": "conceptual-painting",
   "metadata": {},
   "outputs": [
    {
     "name": "stdout",
     "output_type": "stream",
     "text": [
      "-9.827627318703674e-08 rad / d\n",
      "-2.039115042451278e-06 rad / d\n",
      "-2.5870328755745382e-08 rad / d\n"
     ]
    }
   ],
   "source": [
    "#B finds the B from eqn 7.57 of MD99\n",
    "#this is for a very specific scenario with 2 planets and a test particle\n",
    "#for this function, the inputs must be in the required units (AU and Mjupiter) but no explicit astropy units\n",
    "#the smas input must have the test particle as the first entry regardless of its location\n",
    "\n",
    "B_1BUtp = LL_secular.B([1,*smas2.value],masses2.value)\n",
    "B_7BUtp = LL_secular.B([7,*smas2.value],masses2.value)\n",
    "B_20BUtp = LL_secular.B([20,*smas2.value],masses2.value)\n",
    "\n",
    "print(B_1BUtp)\n",
    "print(B_7BUtp)\n",
    "print(B_20BUtp)\n",
    "\n",
    "#you may notice that B = -A, this is expected"
   ]
  },
  {
   "cell_type": "code",
   "execution_count": 121,
   "id": "atmospheric-boxing",
   "metadata": {},
   "outputs": [
    {
     "name": "stdout",
     "output_type": "stream",
     "text": [
      "12.420136358593163\n"
     ]
    },
    {
     "data": {
      "image/png": "[encoded data removed]",
      "text/plain": [
       "<Figure size 432x288 with 1 Axes>"
      ]
     },
     "metadata": {
      "needs_background": "light"
     },
     "output_type": "display_data"
    }
   ],
   "source": [
    "#similarly, we can find the secular resonance locations\n",
    "#this time there is only 1 eigenfrequency so only 2 resonances\n",
    "\n",
    "tp_smas = np.linspace(.1,20,num=1000)\n",
    "ffreqs2 = LL_secular.f_eigenfreqs(masses2,periods2)[0]\n",
    "B_tp = np.array([LL_secular.B([a,*smas2.value],masses2.value).value for a in tp_smas])\n",
    "\n",
    "def B_scalar(a,a1,a2,m1,m2,Mstar,f):\n",
    "    SMA = [a,a1,a2]\n",
    "    Ms = [Mstar,m1,m2]\n",
    "    dum = LL_secular.B(SMA,Ms)\n",
    "    return abs(dum-f).value\n",
    "\n",
    "a1,a2 = smas2.value\n",
    "Mstar,m1,m2 = masses2.value\n",
    "\n",
    "#this time I find the exterior resonance\n",
    "ares2_f = optimize.minimize_scalar(B_scalar,method='bounded',\n",
    "                                    bounds=(1.001*a2,20*a2),args=(a1,a2,m1,m2,Mstar,ffreqs2))['x']\n",
    "print(ares2_f)\n",
    "\n",
    "#double-check via visualizing -- the red lines should cross on top of the blue line\n",
    "#plotting abs value so that we can use log scale\n",
    "plt.plot(tp_smas,abs(B_tp))\n",
    "plt.axhline(abs(ffreqs2.value),color='r')\n",
    "plt.axvline(ares2_f,color='r')\n",
    "plt.yscale('log')"
   ]
  },
  {
   "cell_type": "code",
   "execution_count": 122,
   "id": "developmental-cycling",
   "metadata": {},
   "outputs": [
    {
     "name": "stdout",
     "output_type": "stream",
     "text": [
      "9.392019600194858e-08 rad / d\n",
      "3.452228848723084e-07 rad / d\n"
     ]
    }
   ],
   "source": [
    "#B_j finds the B_j from eqn 7.58 of MD99\n",
    "#this is used by the forced inclination function\n",
    "\n",
    "B_1_tp1AU = LL_secular.B_j(1,smas2[0].value,masses2[0].value,masses2[1].value)\n",
    "B_2_tp7AU = LL_secular.B_j(7,smas2[1].value,masses2[0].value,masses2[2].value)\n",
    "\n",
    "print(B_1_tp1AU)\n",
    "print(B_2_tp7AU)\n",
    "\n",
    "#note that B_j != -A_j"
   ]
  },
  {
   "cell_type": "code",
   "execution_count": 123,
   "id": "industrial-sense",
   "metadata": {},
   "outputs": [
    {
     "name": "stdout",
     "output_type": "stream",
     "text": [
      "0.019835823924636363\n"
     ]
    }
   ],
   "source": [
    "#max_forced_e finds the max e of a test particle over 10^9 orbits\n",
    "#only with 2 massive planets\n",
    "#this uses the process from section 7 MD99\n",
    "\n",
    "#simplified system based on Jup/Sat + Earth as a test particle (m=0)\n",
    "masses = np.array([1 *u.Msun/u.Mjupiter,0,1,.3]) * u.Mjupiter\n",
    "periods = np.array([365,4331,10747]) * u.day\n",
    "smas = PtoA(masses,periods)\n",
    "\n",
    "eccs = np.array([0.049,.052])\n",
    "poms = np.array([2.01,3.60])\n",
    "\n",
    "max_Earth_e = LL_secular.max_forced_e(masses,smas,eccs,poms)\n",
    "\n",
    "print(max_Earth_e)"
   ]
  },
  {
   "cell_type": "code",
   "execution_count": 124,
   "id": "great-browse",
   "metadata": {},
   "outputs": [
    {
     "name": "stdout",
     "output_type": "stream",
     "text": [
      "0.03404278568379994\n"
     ]
    }
   ],
   "source": [
    "#max_inner_e finds the max e of the inner planet over 10^9 orbits\n",
    "#for a 3-planet system\n",
    "\n",
    "#simplified system based on Jup/Sat + Earth (not a test particle)\n",
    "masses = np.array([1 *u.Msun/u.Mjupiter,1*u.Mearth/u.Mjupiter,1,.3]) * u.Mjupiter\n",
    "periods = np.array([365,4331,10747]) * u.day\n",
    "smas = PtoA(masses,periods)\n",
    "\n",
    "eccs = np.array([.017,0.049,.052])\n",
    "poms = np.array([1.60,2.01,3.60])\n",
    "\n",
    "max_Earth_e = LL_secular.max_inner_e(masses,smas,eccs,poms)\n",
    "\n",
    "print(max_Earth_e)"
   ]
  },
  {
   "cell_type": "code",
   "execution_count": 125,
   "id": "viral-japan",
   "metadata": {},
   "outputs": [
    {
     "name": "stdout",
     "output_type": "stream",
     "text": [
      "0.03404236060537911 0.057879816844540986 0.08510924130563456\n",
      "at max Earth e: e_E 0.03404236060537911 e_J 0.023631878815498886 e_S 0.08508607364308698\n"
     ]
    }
   ],
   "source": [
    "#max_e_3planets finds the max e of each planet over 10^9 orbits\n",
    "#for a 3-planet system\n",
    "#also provides the ecc of the other 2 planets at the point in time when 1 planet is at emax\n",
    "\n",
    "all_eccs_output = LL_secular.max_e_3planets(masses,smas,eccs,poms)\n",
    "\n",
    "#max eccs are in the first column of each row\n",
    "max_Earth_e = all_eccs_output[0,0]\n",
    "max_Jup_e = all_eccs_output[1,0]\n",
    "max_Sat_e = all_eccs_output[2,0]\n",
    "\n",
    "print(max_Earth_e,max_Jup_e,max_Sat_e)\n",
    "\n",
    "#remaining eccs in order in the rest of row\n",
    "Jup_e_at_max_Earth_e = all_eccs_output[0,1]\n",
    "Sat_e_at_max_Earth_e = all_eccs_output[0,2]\n",
    "\n",
    "Earth_e_at_max_Jup_e = all_eccs_output[1,1]\n",
    "Sat_e_at_max_Jup_e = all_eccs_output[1,2]\n",
    "\n",
    "Earth_e_at_max_Sat_e = all_eccs_output[2,1]\n",
    "Jup_e_at_max_Sat_e = all_eccs_output[2,2]\n",
    "\n",
    "print('at max Earth e: e_E',max_Earth_e,'e_J',Jup_e_at_max_Earth_e,'e_S',Sat_e_at_max_Earth_e)"
   ]
  },
  {
   "cell_type": "code",
   "execution_count": 126,
   "id": "european-jefferson",
   "metadata": {},
   "outputs": [
    {
     "data": {
      "text/plain": [
       "[<matplotlib.lines.Line2D at 0x7f8dc289f880>]"
      ]
     },
     "execution_count": 126,
     "metadata": {},
     "output_type": "execute_result"
    },
    {
     "data": {
      "image/png": "[encoded data removed]",
      "text/plain": [
       "<Figure size 432x288 with 1 Axes>"
      ]
     },
     "metadata": {
      "needs_background": "light"
     },
     "output_type": "display_data"
    }
   ],
   "source": [
    "#e_tmax_3planets finds the e over time of each planet up to specified tmax (in years)\n",
    "#10,000 steps\n",
    "#for a 3-planet system\n",
    "\n",
    "eccs_output = LL_secular.e_tmax_3planets(masses,smas,eccs,poms,1e6)\n",
    "\n",
    "times = np.linspace(0,1e6,num=10000)\n",
    "\n",
    "plt.plot(times,eccs_output[0],color='green') #Earth\n",
    "plt.plot(times,eccs_output[1],color='orange') #Jupiter\n",
    "plt.plot(times,eccs_output[2],color='red') #Saturn"
   ]
  },
  {
   "cell_type": "code",
   "execution_count": 127,
   "id": "union-cleanup",
   "metadata": {},
   "outputs": [
    {
     "name": "stdout",
     "output_type": "stream",
     "text": [
      "0.030691116574800618\n"
     ]
    }
   ],
   "source": [
    "#max_forced_i finds the max i of a test particle over 10^9 orbits\n",
    "#only with 2 massive planets\n",
    "#this uses the process from section 7 MD99\n",
    "\n",
    "#simplified system based on Jup/Sat + Earth as a test particle (m=0)\n",
    "masses = np.array([1 *u.Msun/u.Mjupiter,0,1,.3]) * u.Mjupiter\n",
    "periods = np.array([365,4331,10747]) * u.day\n",
    "smas = PtoA(masses,periods)\n",
    "\n",
    "incs = np.array([0.023,0.043])\n",
    "Oms = np.array([1.76,1.98])\n",
    "\n",
    "max_Earth_i = LL_secular.max_forced_i(masses,smas,incs,Oms)\n",
    "\n",
    "print(max_Earth_i)"
   ]
  },
  {
   "cell_type": "code",
   "execution_count": 128,
   "id": "czech-tract",
   "metadata": {},
   "outputs": [
    {
     "data": {
      "text/plain": [
       "[<matplotlib.lines.Line2D at 0x7f8dc2869880>]"
      ]
     },
     "execution_count": 128,
     "metadata": {},
     "output_type": "execute_result"
    },
    {
     "data": {
      "image/png": "[encoded data removed]",
      "text/plain": [
       "<Figure size 432x288 with 1 Axes>"
      ]
     },
     "metadata": {
      "needs_background": "light"
     },
     "output_type": "display_data"
    }
   ],
   "source": [
    "#for example, move the Earth's location to see how that affects its forced inclination\n",
    "\n",
    "Earth_smas = np.linspace(.8,3)\n",
    "Earth_max_incs = np.empty(len(Earth_smas))\n",
    "\n",
    "for i,aE in enumerate(Earth_smas):\n",
    "    smas[0] = aE*u.AU\n",
    "    Earth_max_incs[i] = LL_secular.max_forced_i(masses,smas,incs,Oms)\n",
    "\n",
    "plt.plot(Earth_smas,Earth_max_incs)"
   ]
  },
  {
   "cell_type": "code",
   "execution_count": 129,
   "id": "former-luxembourg",
   "metadata": {},
   "outputs": [
    {
     "data": {
      "text/plain": [
       "Text(0.5, 0, '$a_\\\\oplus$ (AU)')"
      ]
     },
     "execution_count": 129,
     "metadata": {},
     "output_type": "execute_result"
    },
    {
     "data": {
      "image/png": "[encoded data removed]",
      "text/plain": [
       "<Figure size 432x288 with 1 Axes>"
      ]
     },
     "metadata": {
      "needs_background": "light"
     },
     "output_type": "display_data"
    }
   ],
   "source": [
    "#zoom in to better resolve the secular resonance!\n",
    "\n",
    "Earth_smas = np.linspace(1.95,2.02,num=100)\n",
    "Earth_max_incs = np.empty(len(Earth_smas))\n",
    "\n",
    "for i,aE in enumerate(Earth_smas):\n",
    "    smas[0] = aE*u.AU\n",
    "    Earth_max_incs[i] = LL_secular.max_forced_i(masses,smas,incs,Oms)\n",
    "\n",
    "plt.plot(Earth_smas,Earth_max_incs)"
   ]
  },
  {
   "cell_type": "code",
   "execution_count": null,
   "id": "committed-reader",
   "metadata": {},
   "outputs": [],
   "source": []
  }
 ],
 "metadata": {
  "kernelspec": {
   "display_name": "Python 3",
   "language": "python",
   "name": "python3"
  },
  "language_info": {
   "codemirror_mode": {
    "name": "ipython",
    "version": 3
   },
   "file_extension": ".py",
   "mimetype": "text/x-python",
   "name": "python",
   "nbconvert_exporter": "python",
   "pygments_lexer": "ipython3",
   "version": "3.8.10"
  }
 },
 "nbformat": 4,
 "nbformat_minor": 5
}
