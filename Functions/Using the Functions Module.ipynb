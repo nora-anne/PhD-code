{
 "cells": [
  {
   "cell_type": "markdown",
   "id": "voluntary-facial",
   "metadata": {},
   "source": [
    "# Functions\n",
    "\n",
    "This module collects miscellaneous functions that I found myself using somewhat frequently across my work. There are 5 packages within this module:\n",
    "\n",
    "- Kepler_solver\n",
    "    1. get_E\n",
    "    1. get_E_niter\n",
    "    1. get_f\n",
    "    1. get_f_niter\n",
    "- orbits\n",
    "    1. PtoA\n",
    "    1. AtoP\n",
    "- pdfs\n",
    "    1. double_Rayleigh_pdf\n",
    "- stats_fitting\n",
    "    1. find_best_continuous_dist_warnings\n",
    "    1. find_best_continuous_dist\n",
    "- LL_secular\n",
    "    1. A_jj\n",
    "    1. A_jk\n",
    "    1. B_jj\n",
    "    1. B_jk\n",
    "    1. A_matrix\n",
    "    1. B_matrix\n",
    "    1. g_eigenfreqs\n",
    "    1. f_eigenfreqs\n",
    "    1. A\n",
    "    1. A_j\n",
    "    1. B\n",
    "    1. B_j\n",
    "    1. max_forced_e\n",
    "    1. max_inner_e\n",
    "    1. max_e_3planets\n",
    "    1. e_tmax_3planets\n",
    "    1. max_forced_i"
   ]
  },
  {
   "cell_type": "markdown",
   "id": "exotic-video",
   "metadata": {},
   "source": [
    "## Kepler_solver\n",
    "\n",
    "This package solves Kepler's equation numerically (using Newton's method, see e.g. Murray & Correia 2011 eqns 42/43) for the eccentric anomaly (E) given an eccentricity (e) and a mean anomaly (M). It also can use E to calculate the true anomaly (f). These functions exist in other packages (like $\\texttt{REBOUND}$), but at some point I wanted to just use my own, so now they exist here.\n",
    "\n",
    "$M = E - e \\text{sin} E$\n",
    "\n",
    "$f = 2 \\text{arctan} (\\sqrt{\\frac{1+e}{1-e}} \\text{tan}\\frac{E}{2})$"
   ]
  },
  {
   "cell_type": "code",
   "execution_count": 1,
   "id": "confirmed-attempt",
   "metadata": {},
   "outputs": [],
   "source": [
    "import Kepler_solver\n",
    "\n",
    "import numpy as np"
   ]
  },
  {
   "cell_type": "code",
   "execution_count": 2,
   "id": "accomplished-stationery",
   "metadata": {},
   "outputs": [],
   "source": [
    "M = 1.5\n",
    "e = .3"
   ]
  },
  {
   "cell_type": "code",
   "execution_count": 3,
   "id": "coordinate-affiliation",
   "metadata": {},
   "outputs": [
    {
     "name": "stdout",
     "output_type": "stream",
     "text": [
      "1.7926475365684045\n",
      "1.5 1.5 \n",
      "\n"
     ]
    }
   ],
   "source": [
    "#get_E iterates until converged, with a change of <1e-12 being the converge criteria.\n",
    "E1 = Kepler_solver.get_E(e,M)\n",
    "print(E1)\n",
    "\n",
    "#check that Kepler's equation is solved\n",
    "print(M,E1 - e*np.sin(E1),'\\n')"
   ]
  },
  {
   "cell_type": "code",
   "execution_count": 4,
   "id": "received-madonna",
   "metadata": {},
   "outputs": [
    {
     "name": "stdout",
     "output_type": "stream",
     "text": [
      "1.7926709216825938 0.013065659355651293\n",
      "1.7926475366434678 2.3385039126022633e-05\n",
      "1.7926475365684045 7.506328891793146e-11\n",
      "1.7926475365684045 0.0\n",
      "1.5 1.5\n"
     ]
    }
   ],
   "source": [
    "#get_E_niter iterates for a given number of steps and returns E and the change between the last iterations.\n",
    "E2,tol2 = Kepler_solver.get_E_niter(e,M,2)\n",
    "E3,tol3 = Kepler_solver.get_E_niter(e,M,3)\n",
    "E4,tol4 = Kepler_solver.get_E_niter(e,M,4)\n",
    "E5,tol5 = Kepler_solver.get_E_niter(e,M,5)\n",
    "print(E2,tol2)\n",
    "print(E3,tol3)\n",
    "print(E4,tol4)\n",
    "print(E5,tol5)\n",
    "\n",
    "#check that Kepler's equation is solved\n",
    "print(M,E5 - e*np.sin(E5))"
   ]
  },
  {
   "cell_type": "code",
   "execution_count": 5,
   "id": "solar-girlfriend",
   "metadata": {},
   "outputs": [
    {
     "name": "stdout",
     "output_type": "stream",
     "text": [
      "2.0804025904657064\n"
     ]
    }
   ],
   "source": [
    "#get_f finds f using the get_E function.\n",
    "f1 = Kepler_solver.get_f(e,M)\n",
    "print(f1)"
   ]
  },
  {
   "cell_type": "code",
   "execution_count": 6,
   "id": "logical-advertising",
   "metadata": {
    "scrolled": true
   },
   "outputs": [
    {
     "name": "stdout",
     "output_type": "stream",
     "text": [
      "2.0804235169953054 0.013065659355651293\n",
      "2.080402590532878 2.3385039126022633e-05\n",
      "2.0804025904657064 7.506328891793146e-11\n",
      "2.0804025904657064 0.0\n"
     ]
    }
   ],
   "source": [
    "#get_f_niter finds f using the get_E_niter function.\n",
    "f2,tol2 = Kepler_solver.get_f_niter(e,M,2)\n",
    "f3,tol3 = Kepler_solver.get_f_niter(e,M,3)\n",
    "f4,tol4 = Kepler_solver.get_f_niter(e,M,4)\n",
    "f5,tol5 = Kepler_solver.get_f_niter(e,M,5)\n",
    "print(f2,tol2)\n",
    "print(f3,tol3)\n",
    "print(f4,tol4)\n",
    "print(f5,tol5)"
   ]
  },
  {
   "cell_type": "markdown",
   "id": "fantastic-publication",
   "metadata": {},
   "source": [
    "## orbits\n",
    "\n",
    "This package contains two functions that convert between period (P) and semi-major axis (a) using Kepler's Third Law. It includes units via the astropy package. Any units can be used for the input arrays, but the outputs are always returned with AU (for a) or days (for P). The arrays can be in any order, but the stellar mass must be the first entry in the mass array and the planets must be in the same order for each array.\n",
    "\n",
    "$a^3 = \\frac{P^2 G (M_\\star + m_p)}{4 \\pi^2}$"
   ]
  },
  {
   "cell_type": "code",
   "execution_count": 7,
   "id": "coated-purse",
   "metadata": {},
   "outputs": [],
   "source": [
    "import orbits\n",
    "\n",
    "import numpy as np\n",
    "import astropy.units as u"
   ]
  },
  {
   "cell_type": "code",
   "execution_count": 8,
   "id": "meaningful-consumer",
   "metadata": {},
   "outputs": [
    {
     "name": "stdout",
     "output_type": "stream",
     "text": [
      "[1.04756551e+03 3.14635187e-03 5.00000000e-01 1.00000000e+00] jupiterMass\n"
     ]
    }
   ],
   "source": [
    "masses = np.array([1*u.Msun/u.Mjupiter,1*u.Mearth/u.Mjupiter,.5,1])*u.Mjupiter\n",
    "print(masses)"
   ]
  },
  {
   "cell_type": "code",
   "execution_count": 9,
   "id": "finished-enforcement",
   "metadata": {},
   "outputs": [
    {
     "name": "stdout",
     "output_type": "stream",
     "text": [
      "[0.99998841 9.6563081  4.94759848] AU\n"
     ]
    }
   ],
   "source": [
    "#PtoA takes an array of N+1 masses and an array of N periods and returns an array of N semi-major axes.\n",
    "#for N planets.\n",
    "\n",
    "periods = np.array([1,30,11])*u.year\n",
    "smas = orbits.PtoA(masses,periods)\n",
    "print(smas)"
   ]
  },
  {
   "cell_type": "code",
   "execution_count": 10,
   "id": "applicable-qualification",
   "metadata": {},
   "outputs": [
    {
     "name": "stdout",
     "output_type": "stream",
     "text": [
      "[  365.25634986 10692.52355971  4081.7485281 ] d\n",
      "[ 1.00001738 29.27453404 11.17521842] yr\n"
     ]
    }
   ],
   "source": [
    "#AtoP takes an array of N+1 masses and an array of N semi-major axes and returns an array of N periods.\n",
    "#for N planets.\n",
    "\n",
    "smas = np.array([1,9.5,5])*u.AU\n",
    "periods = orbits.AtoP(masses,smas)\n",
    "print(periods)\n",
    "print(periods.to(u.yr))"
   ]
  },
  {
   "cell_type": "markdown",
   "id": "angry-manhattan",
   "metadata": {},
   "source": [
    "## pdfs\n",
    "\n",
    "Despite the name, this package in fact contains only a single pdf. The pdf is for the resulting pdf as a function of $x$ when you add together two independent Rayleigh distributions with the same scale ($\\sigma$). This is calculated based on the fact that the probability distribution of the sum of two independent random variables is the convolution of their individual distributions.\n",
    "\n",
    "$P(x,\\sigma) = \\frac{e^{-x^2/2\\sigma^2}}{4\\sigma^3}\\left (2\\sigma x - e^{x^2/4\\sigma^2}\\sqrt{\\pi}(2\\sigma^2-x^2) \\text{erf}(\\frac{x}{2\\sigma}) \\right )$"
   ]
  },
  {
   "cell_type": "code",
   "execution_count": 11,
   "id": "norman-latin",
   "metadata": {},
   "outputs": [],
   "source": [
    "import pdfs\n",
    "\n",
    "import numpy as np\n",
    "%matplotlib inline\n",
    "import matplotlib.pyplot as plt"
   ]
  },
  {
   "cell_type": "code",
   "execution_count": 12,
   "id": "generic-times",
   "metadata": {
    "scrolled": true
   },
   "outputs": [
    {
     "data": {
      "text/plain": [
       "<matplotlib.legend.Legend at 0x7f71bbea59a0>"
      ]
     },
     "execution_count": 12,
     "metadata": {},
     "output_type": "execute_result"
    },
    {
     "data": {
      "image/png": "[encoded data removed]",
      "text/plain": [
       "<Figure size 432x288 with 1 Axes>"
      ]
     },
     "metadata": {
      "needs_background": "light"
     },
     "output_type": "display_data"
    }
   ],
   "source": [
    "x = np.linspace(0,15,200)\n",
    "pdf1 = pdfs.double_Rayleigh_pdf(x,1)\n",
    "pdf2 = pdfs.double_Rayleigh_pdf(x,2)\n",
    "\n",
    "plt.plot(x,pdf1,label='1')\n",
    "plt.plot(x,pdf2,label='2')\n",
    "plt.legend()"
   ]
  },
  {
   "cell_type": "markdown",
   "id": "middle-refrigerator",
   "metadata": {},
   "source": [
    "## stats_fitting\n",
    "\n",
    "This package cycles through all of the continuous variable distributions built into the $\\texttt{SciPy}$ stats module and finds the three distributions that can best fit a dataset (using the highest p-values from a 2-sided Kolmogorov-Smirnov test). Useful when you want to approximate a dataset without having a physical motivation for choosing a certain distribution, but it can be very slow, especially for large datasets. There is a hardcoded timeout that is set to 5 seconds for each distribution to offset this.\n",
    "\n",
    "Given the way p-values are calculated, there is randomness in the process so it won't always return the exact same thing. Also when used on a known distribution, it doesn't always return the correct one as several may be able to approximate the data quite well."
   ]
  },
  {
   "cell_type": "code",
   "execution_count": 13,
   "id": "instrumental-kidney",
   "metadata": {},
   "outputs": [],
   "source": [
    "import stats_fitting\n",
    "\n",
    "import numpy as np\n",
    "from scipy import stats\n",
    "%matplotlib inline\n",
    "import matplotlib.pyplot as plt"
   ]
  },
  {
   "cell_type": "code",
   "execution_count": 14,
   "id": "hollywood-briefs",
   "metadata": {},
   "outputs": [
    {
     "data": {
      "text/plain": [
       "(array([0.09238822, 0.09168296, 0.0789884 , 0.19253422, 0.08039891,\n",
       "        0.08392517, 0.05853605, 0.0197471 , 0.00564203, 0.00141051]),\n",
       " array([ 0.10090319,  1.51883291,  2.93676264,  4.35469237,  5.7726221 ,\n",
       "         7.19055183,  8.60848155, 10.02641128, 11.44434101, 12.86227074,\n",
       "        14.28020047]),\n",
       " <BarContainer object of 10 artists>)"
      ]
     },
     "execution_count": 14,
     "metadata": {},
     "output_type": "execute_result"
    },
    {
     "data": {
      "image/png": "[encoded data removed]",
      "text/plain": [
       "<Figure size 432x288 with 1 Axes>"
      ]
     },
     "metadata": {
      "needs_background": "light"
     },
     "output_type": "display_data"
    }
   ],
   "source": [
    "N = 1000\n",
    "\n",
    "#create a single dataset from a known distribution\n",
    "data_norm = stats.norm.rvs(3,.1,N)\n",
    "\n",
    "#create a dataset without a corresponding single distribution\n",
    "data1 = stats.uniform.rvs(0,10,N)\n",
    "data2 = stats.semicircular.rvs(5,1,N)\n",
    "data3 = stats.genexpon.rvs(4,1,2,1,5,N)\n",
    "data4 = stats.norm.rvs(8,2,N)\n",
    "data_combined = np.random.choice(np.concatenate((data1,data2,data3,data4)),N,replace=False)\n",
    "\n",
    "plt.hist(data_combined,density=True)"
   ]
  },
  {
   "cell_type": "code",
   "execution_count": 15,
   "id": "respective-covering",
   "metadata": {},
   "outputs": [
    {
     "name": "stdout",
     "output_type": "stream",
     "text": [
      "alpha 0.11677281598391237\n",
      "anglit 4.457569108035107e-08\n",
      "arcsine 3.2557636492777553e-40\n",
      "argus 2.3835996925264847e-35\n",
      "beta 0.5654378910227662\n",
      "betaprime 0.11677281598391372\n",
      "bradford 1.4298785797270848e-30\n",
      "burr 0.3631989538416788\n",
      "burr12 0.14408243524623562\n",
      "cauchy 0.006772552391238013\n",
      "chi 0.8547289084783269\n",
      "chi2 6.883804887735039e-74\n",
      "cosine 0.0\n",
      "crystalball 0.36319895384167805\n",
      "dgamma 0.6785103823828913\n",
      "dweibull 0.8547289084783269\n",
      "erlang 0.4253468503964972\n",
      "expon 1.0381186991729691e-49\n",
      "exponnorm 0.6406050184621188\n",
      "exponweib 0.6028025867269027\n",
      "exponpow 0.014097547738750642\n",
      "f 0.9328249603675505\n",
      "fatiguelife 0.9101088695418414\n",
      "fisk 0.5287957655456487\n",
      "foldcauchy 9.92700626378619e-05\n",
      "foldnorm 2.666952933664275e-50\n",
      "frechet_r 0.04644173907524329\n",
      "frechet_l 0.5287957655456448\n",
      "genlogistic 0.5287957655456448\n",
      "gennorm 0.9518901680484947\n",
      "genpareto 1.5057384221056386e-115\n",
      "genexpon 3.8197648612797294e-26\n",
      "genextreme 0.21398843459234124\n",
      "gausshyper 0.753047296152258\n",
      "gamma 0.8547289084783269\n",
      "gengamma 0.9672441518664985\n",
      "genhalflogistic 1.5517005253373951e-28\n",
      "gilbrat 2.141011800663032e-33\n",
      "gompertz 0.04644173907524351\n",
      "gumbel_r 0.01622507819557466\n",
      "gumbel_l 0.005813519714986045\n",
      "halfcauchy 4.370305687018069e-42\n",
      "halflogistic 1.3090048666366263e-53\n",
      "halfnorm 2.0419512232571094e-49\n",
      "halfgennorm 5.9784459651486875e-40\n",
      "hypsecant 0.5287957655456466\n",
      "invgamma 0.28157331258093327\n",
      "invgauss 0.21398843459234124\n",
      "invweibull 0.021361814881110112\n",
      "johnsonsb 0.9790103056821463\n",
      "johnsonsu 0.7161344718258028\n",
      "kappa4 1.73162967801311e-21\n",
      "kappa3 1.0648802621240959e-218\n",
      "ksone 2.380997509164207e-20\n",
      "kstwobign 0.0002633953738135117\n",
      "laplace 0.007873852459750459\n",
      "levy 2.677850754713546e-106\n",
      "levy_l 3.33348136187689e-114\n",
      "levy_stable failed\n",
      "logistic 0.3935265460267513\n",
      "loggamma 0.8547289084783269\n",
      "loglaplace 0.0009484718584334001\n",
      "lognorm 0.8228413328247728\n",
      "lomax 2.150489979779368e-52\n",
      "maxwell 3.5568899289384715e-05\n",
      "mielke 0.9328249603675505\n",
      "moyal 2.879293182699621e-05\n",
      "nakagami 0.9518901680484947\n",
      "ncx2 1.0381186991729691e-49\n",
      "ncf 0.9101088695418414\n",
      "nct 1.436800573826131e-13\n",
      "norm 0.4585797916571728\n",
      "norminvgauss 3.0439906094255994e-19\n",
      "pareto 3.190606565719876e-54\n",
      "pearson3 0.17632237218081756\n",
      "powerlaw 1.689632528931653e-31\n",
      "powerlognorm 0.4253468503964972\n",
      "powernorm 0.753047296152258\n",
      "rdist 8.408914120490474e-31\n",
      "rayleigh 7.11203381500005e-22\n",
      "rice 0.9931929352373579\n",
      "recipinvgauss 0.30720493085574485\n",
      "semicircular 2.993392997894349e-11\n",
      "skewnorm 0.753047296152258\n",
      "t 0.3935265460267513\n",
      "trapz 1.4446691241962367e-88\n",
      "triang 9.709310525784629e-06\n",
      "truncexpon 6.459252869534699e-33\n",
      "truncnorm 0.0\n",
      "tukeylambda 0.9875005182572502\n",
      "uniform 1.0019304707393436e-20\n",
      "vonmises 1.818462504132225e-193\n",
      "vonmises_line 0.0\n",
      "wald 3.3338013535545894e-32\n",
      "weibull_min 0.010578451279885692\n",
      "weibull_max 0.17632237218081567\n",
      "wrapcauchy failed\n",
      "top 3 p-values [0.97901031 0.98750052 0.99319294]\n",
      "top 3 distros ['johnsonsb' 'tukeylambda' 'rice']\n"
     ]
    }
   ],
   "source": [
    "#this approach can raise a lot of spurious warnings, so there is an included wrapper function that ignores warnings.\n",
    "#run find_best_continuous_dist_warnings to run with warnings on.\n",
    "#can also choose to print outputs during the process or not.\n",
    "#if printing=True, it will print each distro and its p-value and then the final top-3 distributions/p-values.\n",
    "#if printing=False, it will just return the names of the top 3 distributions as an array.\n",
    "\n",
    "distros = stats_fitting.find_best_continuous_dist(data_norm,printing=True)"
   ]
  },
  {
   "cell_type": "code",
   "execution_count": 16,
   "id": "burning-dress",
   "metadata": {},
   "outputs": [
    {
     "name": "stdout",
     "output_type": "stream",
     "text": [
      "johnsonsb\n",
      "tukeylambda\n",
      "rice\n"
     ]
    },
    {
     "data": {
      "text/plain": [
       "<matplotlib.legend.Legend at 0x7f71b8b10250>"
      ]
     },
     "execution_count": 16,
     "metadata": {},
     "output_type": "execute_result"
    },
    {
     "data": {
      "image/png": "[encoded data removed]",
      "text/plain": [
       "<Figure size 432x288 with 1 Axes>"
      ]
     },
     "metadata": {
      "needs_background": "light"
     },
     "output_type": "display_data"
    }
   ],
   "source": [
    "plt.hist(data_norm,density=True)\n",
    "x = np.linspace(min(data_norm),max(data_norm),1000)\n",
    "for d in distros:\n",
    "    print(d)\n",
    "    statobj = getattr(stats,d)\n",
    "    fit = statobj.fit(data_norm)\n",
    "    plt.plot(x,statobj.pdf(x,*fit),label=d)\n",
    "plt.plot(x,stats.norm.pdf(x,3,.1),label='true (norm)')\n",
    "plt.legend()\n",
    "    "
   ]
  },
  {
   "cell_type": "code",
   "execution_count": 17,
   "id": "applicable-newsletter",
   "metadata": {},
   "outputs": [],
   "source": [
    "distros = stats_fitting.find_best_continuous_dist(data_combined,printing=False)"
   ]
  },
  {
   "cell_type": "code",
   "execution_count": 18,
   "id": "floating-welsh",
   "metadata": {},
   "outputs": [
    {
     "name": "stdout",
     "output_type": "stream",
     "text": [
      "norminvgauss\n",
      "nct\n",
      "exponweib\n"
     ]
    },
    {
     "data": {
      "text/plain": [
       "<matplotlib.legend.Legend at 0x7f71b8923220>"
      ]
     },
     "execution_count": 18,
     "metadata": {},
     "output_type": "execute_result"
    },
    {
     "data": {
      "image/png": "[encoded data removed]",
      "text/plain": [
       "<Figure size 432x288 with 1 Axes>"
      ]
     },
     "metadata": {
      "needs_background": "light"
     },
     "output_type": "display_data"
    }
   ],
   "source": [
    "plt.hist(data_combined,density=True)\n",
    "x = np.linspace(min(data_combined),max(data_combined),1000)\n",
    "for d in distros:\n",
    "    print(d)\n",
    "    statobj = getattr(stats,d)\n",
    "    fit = statobj.fit(data_combined)\n",
    "    plt.plot(x,statobj.pdf(x,*fit),label=d)\n",
    "plt.legend()    "
   ]
  },
  {
   "cell_type": "markdown",
   "id": "chubby-variable",
   "metadata": {},
   "source": [
    "## LL_secular\n",
    "\n",
    "Due to the size of this package, the tutorial can be found in a separate notebook [here](./Using&#32;the&#32;Functions&#32;Module&#32;-&#32;LL_secular.ipynb)."
   ]
  }
 ],
 "metadata": {
  "kernelspec": {
   "display_name": "Python 3",
   "language": "python",
   "name": "python3"
  },
  "language_info": {
   "codemirror_mode": {
    "name": "ipython",
    "version": 3
   },
   "file_extension": ".py",
   "mimetype": "text/x-python",
   "name": "python",
   "nbconvert_exporter": "python",
   "pygments_lexer": "ipython3",
   "version": "3.8.10"
  }
 },
 "nbformat": 4,
 "nbformat_minor": 5
}
