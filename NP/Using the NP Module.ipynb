{
 "cells": [
  {
   "cell_type": "markdown",
   "id": "voluntary-facial",
   "metadata": {},
   "source": [
    "# NP\n",
    "\n",
    "This module collects miscellaneous functions I created while working on the nodal precession paper (hence NP). There are 5 packages within this module:\n",
    "\n",
    "- eigenfrequencies\n",
    "    - *This entire package was superseded by the LL_secular package in the Functions module*\n",
    "- functions\n",
    "    1. Laplace_coeff\n",
    "    1. i1i2calc\n",
    "    - *The remaining functions are either duplicated or superseded by Functions.LL_secular*\n",
    "- invariable_plane\n",
    "    1. rotate_to_IP_angles\n",
    "    1. rotate_to_IP_sim\n",
    "    1. rotate_to_IP_sim_cartesian\n",
    "    1. rotate_to_IP_sim_sim\n",
    "- LW11\n",
    "    1. gamma\n",
    "    1. pomegadot\n",
    "    1. Omegadot\n",
    "- MD4_derivation\n",
    "    1. Omper_instant\n",
    "    1. Omdot_instant\n",
    "    1. Omdot_b_instant\n",
    "    1. Omdot_c_instant\n",
    "    1. Omper\n",
    "    1. Omdot\n",
    "    1. Omdot_b\n",
    "    1. Omdot_c"
   ]
  },
  {
   "cell_type": "markdown",
   "id": "exotic-video",
   "metadata": {},
   "source": [
    "## functions\n",
    "\n",
    "Most of the functionality in this package was later updated into the LL_secular package in the Functions module. The first of the two remaining unique functions numerically solves the Laplace coefficient equation:\n",
    "\n",
    "$$b_s^{(j)} (\\alpha) = \\frac{1}{\\pi} \\int_0^{2\\pi} \\frac{\\text{cos} j\\phi \\, d\\psi}{(1-2\\alpha\\text{cos}\\psi + \\alpha^2)^s}$$"
   ]
  },
  {
   "cell_type": "code",
   "execution_count": 1,
   "id": "confirmed-attempt",
   "metadata": {},
   "outputs": [],
   "source": [
    "import functions\n",
    "\n",
    "import numpy as np\n",
    "%matplotlib inline\n",
    "import matplotlib.pyplot as plt\n",
    "import astropy.units as u"
   ]
  },
  {
   "cell_type": "code",
   "execution_count": 2,
   "id": "coordinate-affiliation",
   "metadata": {},
   "outputs": [
    {
     "name": "stdout",
     "output_type": "stream",
     "text": [
      "b_3/2^(1) [alpha1] 16.886560765276432\n",
      "b_3/2^(1) [alpha2] 1.0744577342656925\n",
      "b_5/2^(2) [alpha1] 283.3938986621662\n",
      "b_5/2^(2) [alpha2] 1.1227666732240402\n"
     ]
    }
   ],
   "source": [
    "#Laplace coefficients are a function of alpha\n",
    "#defined for a combination of positive half-integers (s) and integers (j)\n",
    "\n",
    "alpha1 = .8\n",
    "alpha2 = .3\n",
    "s1 = 3/2\n",
    "s2 = 5/2\n",
    "j1 = 1\n",
    "j2 = 2\n",
    "\n",
    "L1 = functions.Laplace_coeff(alpha1,s1,j1)\n",
    "L2 = functions.Laplace_coeff(alpha2,s1,j1)\n",
    "L3 = functions.Laplace_coeff(alpha1,s2,j2)\n",
    "L4 = functions.Laplace_coeff(alpha2,s2,j2)\n",
    "\n",
    "print('b_3/2^(1) [alpha1]',L1)\n",
    "print('b_3/2^(1) [alpha2]',L2)\n",
    "print('b_5/2^(2) [alpha1]',L3)\n",
    "print('b_5/2^(2) [alpha2]',L4)"
   ]
  },
  {
   "cell_type": "code",
   "execution_count": 3,
   "id": "understood-portsmouth",
   "metadata": {},
   "outputs": [
    {
     "data": {
      "text/plain": [
       "[<matplotlib.lines.Line2D at 0x7f5834aa9730>]"
      ]
     },
     "execution_count": 3,
     "metadata": {},
     "output_type": "execute_result"
    },
    {
     "data": {
      "image/png": "[encoded data removed]",
      "text/plain": [
       "<Figure size 432x288 with 1 Axes>"
      ]
     },
     "metadata": {
      "needs_background": "light"
     },
     "output_type": "display_data"
    }
   ],
   "source": [
    "#we can check a common approximation that L_3/2_(1)~3alpha for low alpha\n",
    "\n",
    "alphas = np.linspace(0,.4,num=1000)\n",
    "Ls = [functions.Laplace_coeff(alph,3/2,1) for alph in alphas]\n",
    "\n",
    "plt.plot(alphas,Ls)\n",
    "plt.plot(alphas,3*alphas,'--')"
   ]
  },
  {
   "cell_type": "markdown",
   "id": "computational-queen",
   "metadata": {},
   "source": [
    "The second remaining unique function was so that I knew what inclinations to assign to each of the planets in a planet pair (referenced to the invariable plane) in order to have the desired mutual inclination. This allowed me to create simulations that I knew were in the invariable plane without having to rotate them."
   ]
  },
  {
   "cell_type": "code",
   "execution_count": 4,
   "id": "received-madonna",
   "metadata": {},
   "outputs": [
    {
     "name": "stdout",
     "output_type": "stream",
     "text": [
      "inc1 = 0.05414450708114703\n",
      "inc2 = 0.12038841811828592\n"
     ]
    }
   ],
   "source": [
    "#i1i2calc gives the inclination of both planets (referenced to invariable plane) for a given mutual inclination\n",
    "\n",
    "mutual_inclination = (10*u.deg).to_value(u.rad)\n",
    "Mstar = (1*u.Msun).to_value(u.Mjupiter)\n",
    "m1 = 1\n",
    "m2 = 0.3\n",
    "period_ratio = 3.41\n",
    "ecc1 = 0.05\n",
    "ecc2 = 0.08\n",
    "    \n",
    "inc1,inc2 = functions.i1i2calc(mutual_inclination,Mstar,m1,m2,period_ratio,ecc1,ecc2)\n",
    "\n",
    "print('inc1 =',inc1)\n",
    "print('inc2 =',inc2)"
   ]
  },
  {
   "cell_type": "markdown",
   "id": "fantastic-publication",
   "metadata": {},
   "source": [
    "## invariable_plane\n",
    "\n",
    "This package contains various functions to rotate a simulated system into the invariable plane (that is, the total angular momentum vector is entirely in the $\\vec{z}$ direction)."
   ]
  },
  {
   "cell_type": "code",
   "execution_count": 5,
   "id": "coated-purse",
   "metadata": {},
   "outputs": [],
   "source": [
    "import invariable_plane\n",
    "\n",
    "import numpy as np\n",
    "import rebound"
   ]
  },
  {
   "cell_type": "code",
   "execution_count": 6,
   "id": "meaningful-consumer",
   "metadata": {},
   "outputs": [
    {
     "name": "stdout",
     "output_type": "stream",
     "text": [
      "old inc / new inc / new Omega\n",
      "1.5 0.047384562744299925 0.0\n",
      "1.7 0.1524293467429071 -3.1414204696861003\n",
      "1.6 0.052602826460569546 -3.1409407591032705\n",
      "1.4 0.14733496613303054 -0.0014129583972532064\n"
     ]
    }
   ],
   "source": [
    "#rotate_to_IP_angles uses a set of parameters as an input and returns the rotated angles (inc, Omega, omega)\n",
    "#omega does not have to be provided as an input\n",
    "#assumes Omega=0 for the input orbits\n",
    "#if the system cannot be rotated into the IP (using a threshold of 10^-4 in the unit L vector), prints an error\n",
    "\n",
    "#simplified system based on outer solar system\n",
    "masses = np.array([1 *u.Msun/u.Mjupiter,1,.3,.046,.054]) #Mjupiter\n",
    "periods = np.array([4331,10747,30589,59800]) #day\n",
    "\n",
    "#made up inclinations (in rads)\n",
    "incs = np.array([1.5,1.7,1.6,1.4])\n",
    "\n",
    "#circular orbits\n",
    "eccs = np.zeros(len(incs))\n",
    "\n",
    "rotated_angles = invariable_plane.rotate_to_IP_angles(masses,periods,eccs,incs)\n",
    "\n",
    "incs_new = rotated_angles[0,:]\n",
    "Omegas_new = rotated_angles[1,:]\n",
    "omegas_new = rotated_angles[2,:]\n",
    "\n",
    "print('old inc / new inc / new Omega')\n",
    "for i,inew,Omnew in zip(incs,incs_new,Omegas_new):\n",
    "    print(i,inew,Omnew)"
   ]
  },
  {
   "cell_type": "code",
   "execution_count": 7,
   "id": "competent-hardwood",
   "metadata": {},
   "outputs": [
    {
     "name": "stdout",
     "output_type": "stream",
     "text": [
      "old inc / new inc / new Omega\n",
      "1.5 -1.641999490076612 0.0\n",
      "1.7 0.5102375555416266 -3.1410891791900744\n",
      "1.6 0.005164114758878387 -3.141138025632408\n",
      "1.4 -1.1961029751090344 -0.0011132087521824171\n"
     ]
    }
   ],
   "source": [
    "#eccentric orbits\n",
    "eccs = np.array([.1,.05,.3,.02])\n",
    "omegas = np.array([1.5,.5,0,2])\n",
    "#if no omegas are specified, the function will assign random ones\n",
    "\n",
    "rotated_angles = invariable_plane.rotate_to_IP_angles(masses,periods,eccs,incs,omegas)\n",
    "\n",
    "incs_new = rotated_angles[0,:]\n",
    "Omegas_new = rotated_angles[1,:]\n",
    "omegas_new = incs_new = rotated_angles[2,:]\n",
    "\n",
    "print('old inc / new inc / new Omega')\n",
    "for i,inew,Omnew in zip(incs,incs_new,Omegas_new):\n",
    "    print(i,inew,Omnew)"
   ]
  },
  {
   "cell_type": "code",
   "execution_count": 8,
   "id": "neutral-folks",
   "metadata": {},
   "outputs": [
    {
     "name": "stdout",
     "output_type": "stream",
     "text": [
      "OOPS, rotated Lhat [1.34625506e-17 3.34175033e-01 9.42511033e-01]\n"
     ]
    }
   ],
   "source": [
    "#now let's show what happens if it doesn't work\n",
    "#new set of made up inclinations (in rads)\n",
    "incs = np.array([.1,1.7,0,3.1])\n",
    "\n",
    "#circular orbits\n",
    "eccs = np.zeros(len(incs))\n",
    "\n",
    "rotated_angles = invariable_plane.rotate_to_IP_angles(masses,periods,eccs,incs)"
   ]
  },
  {
   "cell_type": "code",
   "execution_count": 9,
   "id": "individual-provider",
   "metadata": {},
   "outputs": [
    {
     "name": "stdout",
     "output_type": "stream",
     "text": [
      "[[ 3.11998639e-01  1.12082844e+00  5.13395409e-01  2.54342325e+00]\n",
      " [ 0.00000000e+00 -3.14039375e+00 -1.65836806e-03  3.13955235e+00]\n",
      " [-2.63248758e+00 -1.50746669e+00 -1.93971723e+00  1.32010474e+00]]\n"
     ]
    }
   ],
   "source": [
    "#you still get an output\n",
    "#but you can see from the unit angular momentum vector (Lhat) that it may not be accurate\n",
    "print(rotated_angles)"
   ]
  },
  {
   "cell_type": "code",
   "execution_count": 10,
   "id": "musical-ceiling",
   "metadata": {},
   "outputs": [
    {
     "name": "stdout",
     "output_type": "stream",
     "text": [
      "old inc / new inc / new Omega\n",
      "1.5 0.047384562744299925 0.0\n",
      "1.7 0.1526249770102865 3.1405542627484553\n",
      "1.6 0.052454284409103595 -3.140987370082364\n",
      "1.4 0.14732956007831854 0.00017642877024328892\n"
     ]
    }
   ],
   "source": [
    "#rotate_to_IP_sim takes the same input parameters but returns a rebound simulation object rather than the angles\n",
    "\n",
    "#simplified system based on outer solar system\n",
    "masses = np.array([1 *u.Msun/u.Mjupiter,1,.3,.046,.054]) #Mjupiter\n",
    "periods = np.array([4331,10747,30589,59800]) #day\n",
    "\n",
    "#made up inclinations (in rads)\n",
    "incs = np.array([1.5,1.7,1.6,1.4])\n",
    "\n",
    "#circular orbits\n",
    "eccs = np.zeros(len(incs))\n",
    "\n",
    "rotated_sim = invariable_plane.rotate_to_IP_sim(masses,periods,eccs,incs)\n",
    "\n",
    "#compare with angles from rotate_to_IP_angles\n",
    "orbs = rotated_sim.calculate_orbits(primary=rotated_sim.particles[0]) #gets astrocentric orbital elements\n",
    "print('old inc / new inc / new Omega')\n",
    "for j in range(4):\n",
    "    print(incs[j],orbs[j].inc,orbs[j].Omega)"
   ]
  },
  {
   "cell_type": "code",
   "execution_count": 11,
   "id": "scheduled-bible",
   "metadata": {},
   "outputs": [
    {
     "name": "stdout",
     "output_type": "stream",
     "text": [
      "old inc / new inc / new Omega\n",
      "1.5 0.04735346703301078 0.0\n",
      "1.7 0.15252852155921967 -3.1410891791900744\n",
      "1.6 0.052636040955341475 -3.141138025632408\n",
      "1.4 0.14737131327428954 -0.0011132087521824171\n"
     ]
    }
   ],
   "source": [
    "#rotate_to_IP_sim_cartesian takes a set of xyz positions and velocities and the masses\n",
    "#returns a rebound simulation object in the invariable plane\n",
    "\n",
    "#simplified system based on outer solar system\n",
    "masses = np.array([1 *u.Msun/u.Mjupiter,1,.3,.046,.054]) #Mjupiter\n",
    "periods = np.array([4331,10747,30589,59800]) #day\n",
    "\n",
    "#made up inclinations (in rads)\n",
    "incs = np.array([1.5,1.7,1.6,1.4])\n",
    "\n",
    "#eccentric orbits\n",
    "eccs = np.array([.1,.05,.3,.02])\n",
    "omegas = np.array([1.5,.5,0,2])\n",
    "\n",
    "#create a simulation to get the cartesian coordinates\n",
    "#but maybe you have the coordinates from another simulation software or something\n",
    "sim0 = rebound.Simulation()\n",
    "sim0.add(m=masses[0])\n",
    "for i in range(4):\n",
    "    sim0.add(m=masses[i+1],P=periods[i],inc=incs[i],e=eccs[i],omega=omegas[i])\n",
    "\n",
    "pos_xyz = np.empty((sim0.N,3))\n",
    "vel_xyz = np.empty((sim0.N,3))\n",
    "for j in range(sim0.N):\n",
    "    pos_xyz[j,0] = sim0.particles[j].x\n",
    "    pos_xyz[j,1] = sim0.particles[j].y\n",
    "    pos_xyz[j,2] = sim0.particles[j].z\n",
    "    vel_xyz[j,0] = sim0.particles[j].vx\n",
    "    vel_xyz[j,1] = sim0.particles[j].vy\n",
    "    vel_xyz[j,2] = sim0.particles[j].vz\n",
    "\n",
    "rotated_sim = invariable_plane.rotate_to_IP_sim_cartesian(masses,pos_xyz,vel_xyz)\n",
    "\n",
    "#compare with angles from rotate_to_IP_angles\n",
    "orbs = rotated_sim.calculate_orbits(primary=rotated_sim.particles[0]) #gets astrocentric orbital elements\n",
    "print('old inc / new inc / new Omega')\n",
    "for j in range(4):\n",
    "    print(incs[j],orbs[j].inc,orbs[j].Omega)"
   ]
  },
  {
   "cell_type": "code",
   "execution_count": 12,
   "id": "confident-estonia",
   "metadata": {},
   "outputs": [
    {
     "name": "stdout",
     "output_type": "stream",
     "text": [
      "rotated into IP: True\n",
      "old inc / new inc / new Omega\n",
      "1.5 0.04735346703301078 0.0\n",
      "1.7 0.15252852155921967 -3.1410891791900744\n",
      "1.6 0.052636040955341475 -3.141138025632408\n",
      "1.4 0.14737131327428954 -0.0011132087521824171\n"
     ]
    }
   ],
   "source": [
    "#rotate_to_IP_sim_sim takes a rebound simulation as an input and returns a rotated rebound simulation\n",
    "#also returns a True/False about whether the rotation was successful\n",
    "\n",
    "#simplified system based on outer solar system\n",
    "masses = np.array([1 *u.Msun/u.Mjupiter,1,.3,.046,.054]) #Mjupiter\n",
    "periods = np.array([4331,10747,30589,59800]) #day\n",
    "\n",
    "#made up inclinations (in rads)\n",
    "incs = np.array([1.5,1.7,1.6,1.4])\n",
    "\n",
    "#eccentric orbits\n",
    "eccs = np.array([.1,.05,.3,.02])\n",
    "omegas = np.array([1.5,.5,0,2])\n",
    "\n",
    "#create a simulation\n",
    "sim0 = rebound.Simulation()\n",
    "sim0.add(m=masses[0])\n",
    "for i in range(4):\n",
    "    sim0.add(m=masses[i+1],P=periods[i],inc=incs[i],e=eccs[i],omega=omegas[i])\n",
    "\n",
    "status,rotated_sim = invariable_plane.rotate_to_IP_sim_sim(sim0)\n",
    "\n",
    "print('rotated into IP:',status)\n",
    "#compare with angles from rotate_to_IP_angles\n",
    "orbs = rotated_sim.calculate_orbits(primary=rotated_sim.particles[0]) #gets astrocentric orbital elements\n",
    "print('old inc / new inc / new Omega')\n",
    "for j in range(4):\n",
    "    print(incs[j],orbs[j].inc,orbs[j].Omega)"
   ]
  },
  {
   "cell_type": "code",
   "execution_count": 13,
   "id": "assisted-bikini",
   "metadata": {},
   "outputs": [
    {
     "name": "stdout",
     "output_type": "stream",
     "text": [
      "rotated into IP: False\n",
      "Lhat =  [7.72128728e-18 3.31842971e-01 9.43334640e-01]\n",
      "old inc / new inc / new Omega\n",
      "0.1 0.31662241784290973 0.0\n",
      "1.7 1.1178372016809683 -3.1411617714460203\n",
      "0.0 0.516349647778409 0.0005120598917466333\n",
      "3.1 2.5409442850864856 3.13994618998184\n"
     ]
    }
   ],
   "source": [
    "#now let's show what happens if it doesn't work\n",
    "#new set of made up inclinations (in rads)\n",
    "incs = np.array([.1,1.7,0,3.1])\n",
    "\n",
    "#create a simulation\n",
    "sim0 = rebound.Simulation()\n",
    "sim0.add(m=masses[0])\n",
    "for i in range(4):\n",
    "    sim0.add(m=masses[i+1],P=periods[i],inc=incs[i],e=eccs[i],omega=omegas[i])\n",
    "\n",
    "status,rotated_sim = invariable_plane.rotate_to_IP_sim_sim(sim0)\n",
    "\n",
    "print('rotated into IP:',status)\n",
    "\n",
    "#see what the Lhat vector is\n",
    "Lrot = rotated_sim.calculate_angular_momentum()\n",
    "print('Lhat = ',Lrot/np.linalg.norm(Lrot))\n",
    "\n",
    "#still can check the angles though\n",
    "orbs = rotated_sim.calculate_orbits(primary=rotated_sim.particles[0]) #gets astrocentric orbital elements\n",
    "print('old inc / new inc / new Omega')\n",
    "for j in range(4):\n",
    "    print(incs[j],orbs[j].inc,orbs[j].Omega)"
   ]
  },
  {
   "cell_type": "markdown",
   "id": "colonial-correction",
   "metadata": {},
   "source": [
    "## LW11\n",
    "\n",
    "This package contains an implementation of three equations from Lithwick & Wu 2011.\n",
    "\n",
    "Equation 15: $\\gamma \\equiv \\frac{3}{4}\\frac{m_J}{M_\\odot} \\alpha^3 \\left ( \\frac{G M_\\odot}{a^3} \\right ) ^{1/2}$\n",
    "\n",
    "Equation 31: $g \\equiv \\frac{d \\varpi}{d t} |_{\\epsilon_J = i_J = 0} = \\gamma (1-\\frac{1}{2}p_e-2p_i)$\n",
    "\n",
    "Equation 33: $s \\equiv \\frac{d \\Omega}{d t} |_{\\epsilon_J = i_J = 0} = \\gamma (-1+\\frac{1}{2}p_i-2p_e)$"
   ]
  },
  {
   "cell_type": "code",
   "execution_count": 14,
   "id": "fleet-commodity",
   "metadata": {},
   "outputs": [],
   "source": [
    "import LW11\n",
    "\n",
    "import numpy as np\n",
    "import astropy.units as u\n",
    "%matplotlib inline\n",
    "import matplotlib.pyplot as plt"
   ]
  },
  {
   "cell_type": "code",
   "execution_count": 15,
   "id": "regional-voluntary",
   "metadata": {},
   "outputs": [
    {
     "name": "stdout",
     "output_type": "stream",
     "text": [
      "gamma = 3.199202314232446e-05\n"
     ]
    }
   ],
   "source": [
    "#gamma\n",
    "#this equation applies for an inner test particle\n",
    "#inputs should be in units of AU and Mearth\n",
    "#output frequency is rad per year\n",
    "\n",
    "#massless Earth and Jupiter\n",
    "aE = 1\n",
    "aJ = 5.2\n",
    "Msun = (1*u.Msun).to_value(u.Mearth)\n",
    "mJ = (1*u.Mjup).to_value(u.Mearth)\n",
    "\n",
    "freq = LW11.gamma(aE,aJ,mJ,Msun)\n",
    "\n",
    "print('gamma =',freq)"
   ]
  },
  {
   "cell_type": "code",
   "execution_count": 16,
   "id": "distinguished-accessory",
   "metadata": {},
   "outputs": [
    {
     "data": {
      "text/plain": [
       "<matplotlib.legend.Legend at 0x7f5832630d30>"
      ]
     },
     "execution_count": 16,
     "metadata": {},
     "output_type": "execute_result"
    },
    {
     "data": {
      "image/png": "[encoded data removed]",
      "text/plain": [
       "<Figure size 432x288 with 1 Axes>"
      ]
     },
     "metadata": {
      "needs_background": "light"
     },
     "output_type": "display_data"
    }
   ],
   "source": [
    "#pomegadot\n",
    "#this is the \"free nonlinear apsidal frequency\"\n",
    "#that is, how the apsidal freq changes based on the test particle's e and i\n",
    "\n",
    "eccs_E = np.linspace(0,.5)\n",
    "freqs1 = [LW11.pomegadot(aE,aJ,mJ,Msun,eE,0) for eE in eccs_E]\n",
    "\n",
    "incs_E = np.linspace(0,.5)\n",
    "freqs2 = [LW11.pomegadot(aE,aJ,mJ,Msun,0,iE) for iE in incs_E]\n",
    "\n",
    "plt.plot(eccs_E,freqs1,label='ecc')\n",
    "plt.plot(incs_E,freqs2,label='inc')\n",
    "plt.xlabel('test particle ecc/inc')\n",
    "plt.ylabel('freq (rad/yr)')\n",
    "plt.legend()"
   ]
  },
  {
   "cell_type": "code",
   "execution_count": 17,
   "id": "cordless-blame",
   "metadata": {},
   "outputs": [
    {
     "data": {
      "text/plain": [
       "<matplotlib.legend.Legend at 0x7f58325bafd0>"
      ]
     },
     "execution_count": 17,
     "metadata": {},
     "output_type": "execute_result"
    },
    {
     "data": {
      "image/png": "[encoded data removed]",
      "text/plain": [
       "<Figure size 432x288 with 1 Axes>"
      ]
     },
     "metadata": {
      "needs_background": "light"
     },
     "output_type": "display_data"
    }
   ],
   "source": [
    "#Omegadot\n",
    "#same thing but for nodal freq\n",
    "\n",
    "eccs_E = np.linspace(0,.5)\n",
    "freqs1 = [LW11.Omegadot(aE,aJ,mJ,Msun,eE,0) for eE in eccs_E]\n",
    "\n",
    "incs_E = np.linspace(0,.5)\n",
    "freqs2 = [LW11.Omegadot(aE,aJ,mJ,Msun,0,iE) for iE in incs_E]\n",
    "\n",
    "plt.plot(eccs_E,freqs1,label='ecc')\n",
    "plt.plot(incs_E,freqs2,label='inc')\n",
    "plt.xlabel('test particle ecc/inc')\n",
    "plt.ylabel('freq (rad/yr)')\n",
    "plt.legend()"
   ]
  },
  {
   "cell_type": "markdown",
   "id": "spare-convergence",
   "metadata": {},
   "source": [
    "## MD4_derivation\n",
    "\n",
    "This package contains an implementation of the equations included in Bailey & Fabrycky 2020 developed from Murray & Dermott 1999.\n",
    "\n",
    "For all functions, the masses can be given in any unit as long as they are all the same, angles must be in radians, and the system must be in the invariable plane. $\\omega$s are optional; if not provided, the relevant terms are dropped from the calculation (this does affect the results!).\n",
    "\n",
    "All the functions are done in the form of $\\dot{\\Omega}$ and $P_\\Omega$. These are easily converted between one another; the $\\dot{\\Omega}$ provides a direction (which is usually negative for nodal precession), but the values are very tiny, making $P_\\Omega$ easier for comparisons and conceptualizing."
   ]
  },
  {
   "cell_type": "code",
   "execution_count": 18,
   "id": "theoretical-intention",
   "metadata": {},
   "outputs": [],
   "source": [
    "import MD4_derivation\n",
    "\n",
    "import numpy as np"
   ]
  },
  {
   "cell_type": "code",
   "execution_count": 19,
   "id": "preceding-textbook",
   "metadata": {},
   "outputs": [
    {
     "name": "stdout",
     "output_type": "stream",
     "text": [
      "P_Om = 11374.23665133447 (no omega)\n",
      "P_Om = 11156.05244107205 (with omega)\n"
     ]
    }
   ],
   "source": [
    "#Omper_instant\n",
    "#this gives the nodal precession period in units of the inner planet's period at a single point in time\n",
    "#this is an average of equations 4 and 5 from BF20 (which should be equal anyway)\n",
    "\n",
    "#using one of our examples from earlier since it's already in the IP\n",
    "\n",
    "Mstar = (1*u.Msun).to_value(u.Mjupiter)\n",
    "m1 = 1\n",
    "m2 = 0.3\n",
    "P1 = 1\n",
    "P2 = 3.41\n",
    "alpha = (P2/P1)**(-2/3)\n",
    "ecc1 = 0.05\n",
    "ecc2 = 0.08\n",
    "i1 = 0.05414450708114703\n",
    "i2 = 0.12038841811828592\n",
    "om1 = .6\n",
    "om2 = 1.3\n",
    "\n",
    "#without omega\n",
    "period1 = MD4_derivation.Omper_instant(alpha,P1,m1,m2,Mstar,ecc1,ecc2,i1,i2)\n",
    "\n",
    "#with omega\n",
    "period2 = MD4_derivation.Omper_instant(alpha,P1,m1,m2,Mstar,ecc1,ecc2,i1,i2,om1,om2)\n",
    "\n",
    "print('P_Om =',period1,'(no omega)')\n",
    "print('P_Om =',period2,'(with omega)')"
   ]
  },
  {
   "cell_type": "code",
   "execution_count": 20,
   "id": "governing-sample",
   "metadata": {},
   "outputs": [
    {
     "name": "stdout",
     "output_type": "stream",
     "text": [
      "f_Om = -0.0005524050096533219 (no omega)\n",
      "f_Om = -0.0005632086564999867 (with omega)\n",
      "P_Om = 11374.23665133447 (no omega)\n",
      "P_Om = 11156.05244107205 (with omega)\n"
     ]
    }
   ],
   "source": [
    "#Omdot_instant\n",
    "#same as the Omper_instant except now it gives the frequency in radians per unit of P1\n",
    "\n",
    "#without omega\n",
    "freq1 = MD4_derivation.Omdot_instant(alpha,P1,m1,m2,Mstar,ecc1,ecc2,i1,i2)\n",
    "\n",
    "#with omega\n",
    "freq2 = MD4_derivation.Omdot_instant(alpha,P1,m1,m2,Mstar,ecc1,ecc2,i1,i2,om1,om2)\n",
    "\n",
    "print('f_Om =',freq1,'(no omega)')\n",
    "print('f_Om =',freq2,'(with omega)')\n",
    "\n",
    "#should convert to the same period as Omper_instant\n",
    "print('P_Om =',abs(2*np.pi/freq1),'(no omega)')\n",
    "print('P_Om =',abs(2*np.pi/freq2),'(with omega)')"
   ]
  },
  {
   "cell_type": "code",
   "execution_count": 21,
   "id": "varied-blond",
   "metadata": {},
   "outputs": [
    {
     "name": "stdout",
     "output_type": "stream",
     "text": [
      "fb_Om = -0.0005523372699616928 (no omega)\n",
      "fb_Om = -0.000563147526844603 (with omega)\n"
     ]
    }
   ],
   "source": [
    "#Omdot_b_instant\n",
    "#same as Omdot_instant except instead of average the values for inner and outer, just returns the inner\n",
    "#equation 4 from BF20\n",
    "\n",
    "#without omega\n",
    "freq1 = MD4_derivation.Omdot_b_instant(alpha,P1,m1,m2,Mstar,ecc1,ecc2,i1,i2)\n",
    "\n",
    "#with omega\n",
    "freq2 = MD4_derivation.Omdot_b_instant(alpha,P1,m1,m2,Mstar,ecc1,ecc2,i1,i2,om1,om2)\n",
    "\n",
    "print('fb_Om =',freq1,'(no omega)')\n",
    "print('fb_Om =',freq2,'(with omega)')"
   ]
  },
  {
   "cell_type": "code",
   "execution_count": 22,
   "id": "judicial-hunger",
   "metadata": {},
   "outputs": [
    {
     "name": "stdout",
     "output_type": "stream",
     "text": [
      "fc_Om = -0.000552472749344951 (no omega)\n",
      "fc_Om = -0.0005632697861553703 (with omega)\n"
     ]
    }
   ],
   "source": [
    "#Omdot_c_instant\n",
    "#same as Omdot_instant except instead of average the values for inner and outer, just returns the outer\n",
    "\n",
    "#without omega\n",
    "freq1 = MD4_derivation.Omdot_c_instant(alpha,P1,m1,m2,Mstar,ecc1,ecc2,i1,i2)\n",
    "\n",
    "#with omega\n",
    "freq2 = MD4_derivation.Omdot_c_instant(alpha,P1,m1,m2,Mstar,ecc1,ecc2,i1,i2,om1,om2)\n",
    "\n",
    "print('fc_Om =',freq1,'(no omega)')\n",
    "print('fc_Om =',freq2,'(with omega)')"
   ]
  },
  {
   "cell_type": "code",
   "execution_count": 23,
   "id": "soviet-notebook",
   "metadata": {},
   "outputs": [],
   "source": [
    "#if Omdot_c_instant and Omdot_b_instant are not basically equal\n",
    "#then your system is not in the invariable plane!"
   ]
  },
  {
   "cell_type": "code",
   "execution_count": 24,
   "id": "canadian-talent",
   "metadata": {},
   "outputs": [
    {
     "name": "stdout",
     "output_type": "stream",
     "text": [
      "P_Om (avg) = 11374.23665133447 (no omega)\n",
      "P_Om (avg) = 11187.905520251466 (with omega)\n"
     ]
    }
   ],
   "source": [
    "#Omper\n",
    "#this gives the nodal precession period in units of the inner planet's period averaged over time\n",
    "#again this is an average of the inner/outer periods\n",
    "#this is what the observed nodal period should correspond with\n",
    "#removes 3 of the omega-dependent terms, however the difference in omegas still matters\n",
    "#though again, omegas are not required and if not provided that term will be dropped\n",
    "\n",
    "#without omega (will be the same os Omper_instant)\n",
    "period1 = MD4_derivation.Omper(alpha,P1,m1,m2,Mstar,ecc1,ecc2,i1,i2)\n",
    "\n",
    "#with omega\n",
    "period2 = MD4_derivation.Omper(alpha,P1,m1,m2,Mstar,ecc1,ecc2,i1,i2,om1,om2)\n",
    "\n",
    "print('P_Om (avg) =',period1,'(no omega)')\n",
    "print('P_Om (avg) =',period2,'(with omega)')"
   ]
  },
  {
   "cell_type": "code",
   "execution_count": 25,
   "id": "contrary-turner",
   "metadata": {},
   "outputs": [
    {
     "name": "stdout",
     "output_type": "stream",
     "text": [
      "f_Om (avg) = -0.0005524050096533219 (no omega)\n",
      "f_Om (avg) = -0.0005616051454676891 (with omega)\n",
      "P_Om (avg) = 11374.23665133447 (no omega)\n",
      "P_Om (avg) = 11187.905520251466 (with omega)\n"
     ]
    }
   ],
   "source": [
    "#Omdot\n",
    "#same as Omper except returns instead the frequency in rad per unit of P1\n",
    "\n",
    "#without omega (will be the same os Omdot_instant)\n",
    "freq1 = MD4_derivation.Omdot(alpha,P1,m1,m2,Mstar,ecc1,ecc2,i1,i2)\n",
    "\n",
    "#with omega\n",
    "freq2 = MD4_derivation.Omdot(alpha,P1,m1,m2,Mstar,ecc1,ecc2,i1,i2,om1,om2)\n",
    "\n",
    "print('f_Om (avg) =',freq1,'(no omega)')\n",
    "print('f_Om (avg) =',freq2,'(with omega)')\n",
    "\n",
    "#should convert to the same period as Omper_instant\n",
    "print('P_Om (avg) =',abs(2*np.pi/freq1),'(no omega)')\n",
    "print('P_Om (avg) =',abs(2*np.pi/freq2),'(with omega)')"
   ]
  },
  {
   "cell_type": "code",
   "execution_count": 26,
   "id": "transparent-traffic",
   "metadata": {},
   "outputs": [
    {
     "name": "stdout",
     "output_type": "stream",
     "text": [
      "fb_Om (avg) = -0.0005523372699616928 (no omega)\n",
      "fb_Om (avg) = -0.0005615430347300659 (with omega)\n",
      "fc_Om (avg) = -0.000552472749344951 (no omega)\n",
      "fc_Om (avg) = -0.0005616672562053122 (with omega)\n"
     ]
    }
   ],
   "source": [
    "#Omdot_b\n",
    "#same as Omdot except provides value for inner planet only\n",
    "\n",
    "#Omdot_c\n",
    "#same as Omdot except provides value for inner planet only\n",
    "\n",
    "#these should be equal for planets in the invariable plane\n",
    "\n",
    "#without omega (will be the same os Omdot_instant)\n",
    "freq1_b = MD4_derivation.Omdot_b(alpha,P1,m1,m2,Mstar,ecc1,ecc2,i1,i2)\n",
    "freq1_c = MD4_derivation.Omdot_c(alpha,P1,m1,m2,Mstar,ecc1,ecc2,i1,i2)\n",
    "\n",
    "#with omega\n",
    "freq2_b = MD4_derivation.Omdot_b(alpha,P1,m1,m2,Mstar,ecc1,ecc2,i1,i2,om1,om2)\n",
    "freq2_c = MD4_derivation.Omdot_c(alpha,P1,m1,m2,Mstar,ecc1,ecc2,i1,i2,om1,om2)\n",
    "\n",
    "print('fb_Om (avg) =',freq1_b,'(no omega)')\n",
    "print('fb_Om (avg) =',freq2_b,'(with omega)')\n",
    "\n",
    "print('fc_Om (avg) =',freq1_c,'(no omega)')\n",
    "print('fc_Om (avg) =',freq2_c,'(with omega)')"
   ]
  }
 ],
 "metadata": {
  "kernelspec": {
   "display_name": "Python 3",
   "language": "python",
   "name": "python3"
  },
  "language_info": {
   "codemirror_mode": {
    "name": "ipython",
    "version": 3
   },
   "file_extension": ".py",
   "mimetype": "text/x-python",
   "name": "python",
   "nbconvert_exporter": "python",
   "pygments_lexer": "ipython3",
   "version": "3.8.10"
  }
 },
 "nbformat": 4,
 "nbformat_minor": 5
}
